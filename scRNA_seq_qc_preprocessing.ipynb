{
 "cells": [
  {
   "cell_type": "markdown",
   "metadata": {},
   "source": [
    "# Prerequisites"
   ]
  },
  {
   "cell_type": "code",
   "execution_count": 4,
   "metadata": {},
   "outputs": [
    {
     "name": "stdout",
     "output_type": "stream",
     "text": [
      "scanpy==1.3.2 anndata==0.6.10 numpy==1.15.4 scipy==1.2.1 pandas==0.23.4 scikit-learn==0.20.0 statsmodels==0.9.0 python-igraph==0.7.1 louvain==0.6.1 \n"
     ]
    }
   ],
   "source": [
    "import numpy as np\n",
    "import matplotlib.pyplot as pl\n",
    "import numpy as np\n",
    "import scanpy.api as sc\n",
    "import pandas as pd\n",
    "from scanpy.tools import rna_velocity\n",
    "from anndata import AnnData\n",
    "import seaborn as sns\n",
    "from scipy.sparse import csr_matrix\n",
    "import networkx as nx\n",
    "import xlsxwriter\n",
    "from matplotlib import rcParams\n",
    "import seaborn as sns\n",
    "import scipy as sci\n",
    "import gseapy as gp\n",
    "sc.settings.verbosity = 3\n",
    "sc.logging.print_versions()"
   ]
  },
  {
   "cell_type": "markdown",
   "metadata": {
    "heading_collapsed": true
   },
   "source": [
    "# Load raw data"
   ]
  },
  {
   "cell_type": "code",
   "execution_count": null,
   "metadata": {
    "hidden": true
   },
   "outputs": [],
   "source": [
    "# Read cellranger files for all four samples\n",
    "filename = './E12_5_counts/mm10/matrix.mtx'\n",
    "filename_genes = './E12_5_counts/mm10/genes.tsv'\n",
    "filename_barcodes = './E12_5_counts/mm10/barcodes.tsv'\n",
    "\n",
    "e125 = sc.read(filename).transpose()\n",
    "e125.var_names = np.genfromtxt(filename_genes, dtype=str)[:, 1]\n",
    "e125.obs_names = np.genfromtxt(filename_barcodes, dtype=str)\n",
    "\n",
    "filename = './E13_5_counts/mm10/matrix.mtx'\n",
    "filename_genes = './E13_5_counts/mm10/genes.tsv'\n",
    "filename_barcodes = './E13_5_counts/mm10/barcodes.tsv'\n",
    "\n",
    "e135 = sc.read(filename).transpose()\n",
    "e135.var_names = np.genfromtxt(filename_genes, dtype=str)[:, 1]\n",
    "e135.obs_names = np.genfromtxt(filename_barcodes, dtype=str)\n",
    "\n",
    "filename = './E14_5_counts/mm10/matrix.mtx'\n",
    "filename_genes = './E14_5_counts/mm10/genes.tsv'\n",
    "filename_barcodes = './E14_5_counts/mm10/barcodes.tsv'\n",
    "\n",
    "e145 = sc.read(filename).transpose()\n",
    "e145.var_names = np.genfromtxt(filename_genes, dtype=str)[:, 1]\n",
    "e145.obs_names = np.genfromtxt(filename_barcodes, dtype=str)\n",
    "\n",
    "filename = './E15_5_counts/mm10/matrix.mtx'\n",
    "filename_genes = './E15_5_counts/mm10/genes.tsv'\n",
    "filename_barcodes = './E15_5_counts/mm10/barcodes.tsv'\n",
    "\n",
    "e155 = sc.read(filename).transpose()\n",
    "e155.var_names = np.genfromtxt(filename_genes, dtype=str)[:, 1]\n",
    "e155.obs_names = np.genfromtxt(filename_barcodes, dtype=str)\n",
    "\n",
    "\n",
    "\n",
    "\n",
    "# Add dev. timepoint label for each sample\n",
    "e125.obs['day'] = '12.5'\n",
    "e135.obs['day'] = '13.5'\n",
    "e145.obs['day'] = '14.5'\n",
    "e155.obs['day'] = '15.5'\n",
    "# Create Concatenated anndata object for all timepoints\n",
    "alldays = e125.concatenate(e135, e145, e155)\n",
    "# Deleting individual day arrays\n",
    "del e125\n",
    "del e135\n",
    "del e145\n",
    "del e155"
   ]
  },
  {
   "cell_type": "markdown",
   "metadata": {},
   "source": [
    "# Preprocessing"
   ]
  },
  {
   "cell_type": "markdown",
   "metadata": {
    "heading_collapsed": true
   },
   "source": [
    "## QC"
   ]
  },
  {
   "cell_type": "markdown",
   "metadata": {
    "hidden": true
   },
   "source": [
    "Quality control - calculate QC covariates for all anndata objects"
   ]
  },
  {
   "cell_type": "code",
   "execution_count": null,
   "metadata": {
    "hidden": true
   },
   "outputs": [],
   "source": [
    "print(alldays.obs['day'].value_counts()) # number of cells per sample (day)"
   ]
  },
  {
   "cell_type": "code",
   "execution_count": null,
   "metadata": {
    "hidden": true
   },
   "outputs": [],
   "source": [
    "# #counts per cell\n",
    "alldays.obs['n_counts'] = alldays.X.sum(1)\n",
    "# #logcounts per cell\n",
    "alldays.obs['log_counts'] = np.log(alldays.obs['n_counts'])\n",
    "# #genes per cell\n",
    "alldays.obs['n_genes'] = (alldays.X > 0).sum(1)\n",
    "# mitochondrial gene fraction\n",
    "mt_gene_mask = [gene.startswith('mt-') for gene in alldays.var_names]\n",
    "mt_gene_index = np.where(mt_gene_mask)[0]\n",
    "alldays.obs['mt_frac'] = alldays.X[:,mt_gene_index].sum(1) / alldays.X.sum(1)"
   ]
  },
  {
   "cell_type": "markdown",
   "metadata": {
    "hidden": true
   },
   "source": [
    "Quality control - plot QC metrics"
   ]
  },
  {
   "cell_type": "code",
   "execution_count": null,
   "metadata": {
    "hidden": true
   },
   "outputs": [],
   "source": [
    "#Sample quality plots\n",
    "sc.pl.violin(alldays, ['n_counts', 'mt_frac'], groupby='day', size=1, log=False, cut=0)\n",
    "#sc.pl.violin(alldays, 'mt_frac', groupby='day')"
   ]
  },
  {
   "cell_type": "markdown",
   "metadata": {
    "hidden": true
   },
   "source": [
    "Filter cells according to identified QC thresholds"
   ]
  },
  {
   "cell_type": "code",
   "execution_count": null,
   "metadata": {
    "hidden": true
   },
   "outputs": [],
   "source": [
    "print('Total number of cells: {:d}'.format(alldays.n_obs))\n",
    "alldays = alldays[alldays.obs['mt_frac'] < 0.2]\n",
    "print('Number of cells after MT filter: {:d}'.format(alldays.n_obs))\n",
    "\n",
    "sc.pp.filter_cells(alldays, min_genes = 1200)\n",
    "print('Number of cells after gene filter: {:d}'.format(alldays.n_obs))\n",
    "#Filter genes:\n",
    "print('Total number of genes: {:d}'.format(alldays.n_vars))\n",
    "\n",
    "# Min 20 cells - filters out 0 count genes\n",
    "sc.pp.filter_genes(alldays, min_cells=20)\n",
    "print('Number of genes after cell filter: {:d}'.format(alldays.n_vars))"
   ]
  },
  {
   "cell_type": "markdown",
   "metadata": {
    "heading_collapsed": true
   },
   "source": [
    "## Normalization"
   ]
  },
  {
   "cell_type": "code",
   "execution_count": null,
   "metadata": {
    "hidden": true
   },
   "outputs": [],
   "source": [
    "#Keep a copy of the raw, filtered data in a separate anndata object\n",
    "alldays_counts = alldays.copy()\n",
    "#Log-transform data and perform quantile normalisation\n",
    "sc.pp.log1p(alldays)\n",
    "alldays.X = sci.sparse.csr_matrix(scanpy.preprocessing.simple.normalize_per_cell_weinreb16_deprecated(alldays.X.toarray(), max_fraction=0.05, mult_with_mean=True))\n",
    "alldays.raw = alldays"
   ]
  },
  {
   "cell_type": "markdown",
   "metadata": {
    "heading_collapsed": true
   },
   "source": [
    "## Filter highly variable genes"
   ]
  },
  {
   "cell_type": "code",
   "execution_count": null,
   "metadata": {
    "hidden": true
   },
   "outputs": [],
   "source": [
    "# Keep a list of highly variable genes\n",
    "disp_filter = sc.pp.filter_genes_dispersion(alldays.X, flavor='cell_ranger', n_top_genes=4000, log=False, )\n",
    "print('Number of highly variable genes: {:d}'.format(alldays[:, disp_filter['gene_subset']].n_vars))\n",
    "alldays.var['highly_variable_genes'] = disp_filter['gene_subset']\n",
    "alldays.var['expression_mean'] = disp_filter['means']\n",
    "alldays.var['dispersion'] = disp_filter['dispersions']\n",
    "sc.pl.filter_genes_dispersion(disp_filter)"
   ]
  },
  {
   "cell_type": "markdown",
   "metadata": {
    "hidden": true
   },
   "source": [
    "Create a data set with only the highly variable genes"
   ]
  },
  {
   "cell_type": "code",
   "execution_count": null,
   "metadata": {
    "hidden": true
   },
   "outputs": [],
   "source": [
    "alldays_hvg = alldays.copy()\n",
    "alldays_hvg = alldays_hvg[:, disp_filter['gene_subset']]"
   ]
  },
  {
   "cell_type": "markdown",
   "metadata": {},
   "source": [
    "# Read and write data"
   ]
  },
  {
   "cell_type": "code",
   "execution_count": 701,
   "metadata": {
    "run_control": {
     "marked": true
    }
   },
   "outputs": [],
   "source": [
    "alldays_hvg.write('/adata_hvg_nonfiltered.h5ad')"
   ]
  },
  {
   "cell_type": "code",
   "execution_count": null,
   "metadata": {},
   "outputs": [],
   "source": [
    "alldays.write('/adata_nonfiltered.h5ad')"
   ]
  },
  {
   "cell_type": "code",
   "execution_count": 649,
   "metadata": {},
   "outputs": [],
   "source": [
    "alldays_hvg=sc.read('./adata_hvg_nonfiltered.h5ad')"
   ]
  },
  {
   "cell_type": "code",
   "execution_count": null,
   "metadata": {},
   "outputs": [],
   "source": [
    "alldays=sc.read('./adata_nonfiltered.h5ad')"
   ]
  }
 ],
 "metadata": {
  "kernelspec": {
   "display_name": "Python scanpy_1_3",
   "language": "python",
   "name": "scanpy_ngn3"
  },
  "language_info": {
   "codemirror_mode": {
    "name": "ipython",
    "version": 3
   },
   "file_extension": ".py",
   "mimetype": "text/x-python",
   "name": "python",
   "nbconvert_exporter": "python",
   "pygments_lexer": "ipython3",
   "version": "3.5.4"
  },
  "nav_menu": {},
  "toc": {
   "navigate_menu": true,
   "number_sections": true,
   "sideBar": true,
   "threshold": 6,
   "toc_cell": false,
   "toc_section_display": "block",
   "toc_window_display": true
  },
  "toc_position": {
   "height": "715px",
   "left": "0px",
   "right": "1334.6px",
   "top": "110px",
   "width": "212px"
  }
 },
 "nbformat": 4,
 "nbformat_minor": 2
}
